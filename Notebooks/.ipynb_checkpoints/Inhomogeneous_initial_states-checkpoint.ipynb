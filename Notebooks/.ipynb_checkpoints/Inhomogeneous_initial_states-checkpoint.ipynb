{
 "cells": [
  {
   "cell_type": "code",
   "execution_count": 1,
   "id": "49e51f47-60b3-4311-b7e3-70f66611aed8",
   "metadata": {},
   "outputs": [],
   "source": [
    "import numpy as np\n",
    "def E(N):\n",
    "    return (N-1)*0.1 + 0.4\n",
    "\n"
   ]
  },
  {
   "cell_type": "code",
   "execution_count": 2,
   "id": "b60b9f32-ac8e-420e-b3e0-2ce25bb553f8",
   "metadata": {},
   "outputs": [
    {
     "name": "stdout",
     "output_type": "stream",
     "text": [
      "1.3\n"
     ]
    },
    {
     "data": {
      "text/plain": [
       "np.float64(1.3000000000000003)"
      ]
     },
     "execution_count": 2,
     "metadata": {},
     "output_type": "execute_result"
    }
   ],
   "source": [
    "print(E(10))\n",
    "pops_inhomo =[0.11647665, 0.02352335,0.08,0.1,0.28,0.12,0.12,0.28,0.1,0.08]\n",
    "np.sum(pops_inhomo)"
   ]
  },
  {
   "cell_type": "code",
   "execution_count": 3,
   "id": "4d8544fb-4754-48ad-b3ed-e7b9f3448559",
   "metadata": {},
   "outputs": [],
   "source": [
    "def S(p):\n",
    "    return -(1 - p) * log(1 - p) - p * log(p)"
   ]
  },
  {
   "cell_type": "code",
   "execution_count": 4,
   "id": "724a3b2a-37fb-4caf-8cee-49b061026ab1",
   "metadata": {},
   "outputs": [],
   "source": [
    "def S_list_of_pops(list_of_pops):\n",
    "    S=[]\n",
    "    for p in list_of_pops:\n",
    "        S.append(-(1-p)*np.log(1-p) - p*np.log(p))\n",
    "    return sum(S)"
   ]
  },
  {
   "cell_type": "code",
   "execution_count": 6,
   "id": "0f4839bb-586b-4639-a814-af389c29e096",
   "metadata": {},
   "outputs": [
    {
     "data": {
      "text/latex": [
       "$\\displaystyle 3.59875842753229$"
      ],
      "text/plain": [
       "3.59875842753229"
      ]
     },
     "execution_count": 6,
     "metadata": {},
     "output_type": "execute_result"
    }
   ],
   "source": [
    "from sympy import symbols, Eq, solve, log\n",
    "\n",
    "def S_int(p1,p2,N):\n",
    "    return (N-1)*S(p1) + S(p2)\n",
    "\n",
    "S_in = S_int(0.1,0.4,10)\n",
    "E_in=E(10)\n",
    "E_in\n",
    "S_in"
   ]
  },
  {
   "cell_type": "code",
   "execution_count": 8,
   "id": "cd3281e3-76c5-4972-874b-baabe93e0b51",
   "metadata": {},
   "outputs": [
    {
     "name": "stdout",
     "output_type": "stream",
     "text": [
      "Energy: 1.3\n",
      "Entropy:3.59875842753229\n"
     ]
    }
   ],
   "source": [
    "# 8 qubits \n",
    "print(f\"Energy: {E_in}\")\n",
    "print(f\"Entropy:{S_in}\")"
   ]
  },
  {
   "cell_type": "code",
   "execution_count": 9,
   "id": "7a5d145b-36f6-4992-8230-00f60bfbd7f3",
   "metadata": {},
   "outputs": [
    {
     "name": "stdout",
     "output_type": "stream",
     "text": [
      "Energy of inohmo: 1.3000000000000003\n",
      "Entropy:3.5987584257940983\n"
     ]
    }
   ],
   "source": [
    "print(f\"Energy of inohmo: {np.sum(pops_inhomo)}\")\n",
    "print(f\"Entropy:{S_list_of_pops(pops_inhomo)}\")"
   ]
  },
  {
   "cell_type": "code",
   "execution_count": 6,
   "id": "ad97d33e-a02d-432f-a8a4-8c32b9806ac4",
   "metadata": {
    "scrolled": true
   },
   "outputs": [
    {
     "ename": "NameError",
     "evalue": "name 'S_in' is not defined",
     "output_type": "error",
     "traceback": [
      "\u001b[0;31m---------------------------------------------------------------------------\u001b[0m",
      "\u001b[0;31mNameError\u001b[0m                                 Traceback (most recent call last)",
      "Cell \u001b[0;32mIn[6], line 9\u001b[0m\n\u001b[1;32m      6\u001b[0m eq1 \u001b[38;5;241m=\u001b[39m Eq(\u001b[38;5;28msum\u001b[39m(p_list), E_in)\n\u001b[1;32m      8\u001b[0m \u001b[38;5;66;03m# Second equation: sum of S(p) equals S_in\u001b[39;00m\n\u001b[0;32m----> 9\u001b[0m eq2 \u001b[38;5;241m=\u001b[39m Eq(\u001b[38;5;28msum\u001b[39m(S(p) \u001b[38;5;28;01mfor\u001b[39;00m p \u001b[38;5;129;01min\u001b[39;00m p_list), S_in)\n\u001b[1;32m     11\u001b[0m \u001b[38;5;66;03m# Solve the system of equations\u001b[39;00m\n\u001b[1;32m     12\u001b[0m solution \u001b[38;5;241m=\u001b[39m solve((eq1, eq2), (a, b))\n",
      "\u001b[0;31mNameError\u001b[0m: name 'S_in' is not defined"
     ]
    }
   ],
   "source": [
    "E_in=E(8)\n",
    "# Define the symbolic variables\n",
    "a, b = symbols('a b')\n",
    "p_list = [a, 0.12, 0.09, 0.15, 0.3,0.14, 0.23,b]\n",
    "eq1 = Eq(sum(p_list), E_in)\n",
    "\n",
    "# Second equation: sum of S(p) equals S_in\n",
    "eq2 = Eq(sum(S(p) for p in p_list), S_in)\n",
    "\n",
    "# Solve the system of equations\n",
    "solution = solve((eq1, eq2), (a, b))\n",
    "\n",
    "print(\"Solution:\", solution)"
   ]
  },
  {
   "cell_type": "code",
   "execution_count": 23,
   "id": "e782f756-8204-431d-8694-cbd5df2c5e2e",
   "metadata": {},
   "outputs": [
    {
     "data": {
      "text/plain": [
       "1.3"
      ]
     },
     "execution_count": 23,
     "metadata": {},
     "output_type": "execute_result"
    }
   ],
   "source": [
    "S_in\n",
    "E_in"
   ]
  },
  {
   "cell_type": "code",
   "execution_count": 186,
   "id": "41bba580-5d7c-4ab7-88dd-c5ed7dfb5ee6",
   "metadata": {},
   "outputs": [
    {
     "name": "stdout",
     "output_type": "stream",
     "text": [
      "Optimized parameters: [0.15139453 0.02860547]\n"
     ]
    }
   ],
   "source": [
    "import numpy as np\n",
    "from scipy.optimize import minimize\n",
    "S_in = S_int(0.1,0.4,6)\n",
    "E_in=E(6)\n",
    "E_in\n",
    "S_in\n",
    "N=6\n",
    "# Define the p_list elements as functions of a and b\n",
    "def p_list(a, b, N):\n",
    "    #return [a,0.08,0.1,0.28,0.12,0.12,0.28,0.1,0.08,b]\n",
    "    return [a,0.28,0.08,0.08,0.28,b]\n",
    "\n",
    "# Define the objective function to minimize\n",
    "def objective(params):\n",
    "    a, b = params\n",
    "    p_vals = p_list(a, b, N)\n",
    "    sum_p = np.sum(p_vals)\n",
    "    sum_Sp = np.sum([S(p) for p in p_vals])\n",
    "    # Return the sum of squared differences (error terms)\n",
    "    return float(((sum_p - E_in)**2 + (sum_Sp - S_in)**2).evalf().as_real_imag()[0])\n",
    "\n",
    "# Initial guesses for a and b\n",
    "initial_guess = [0.002002, 0.00002201]  # Adjust based on expected range\n",
    "\n",
    "# Use scipy's minimize function to find the optimal a and b\n",
    "result = minimize(objective, initial_guess, method='Nelder-Mead', tol=1e-20)\n",
    "\n",
    "# Print the optimized parameters\n",
    "print(\"Optimized parameters:\", result.x)\n"
   ]
  },
  {
   "cell_type": "code",
   "execution_count": 43,
   "id": "39f14a82-b77e-4701-9bb9-fb86d13d6463",
   "metadata": {},
   "outputs": [
    {
     "data": {
      "text/latex": [
       "$\\displaystyle \\left(a + b - 0.0700000000000001\\right)^{2} + \\left(- a \\log{\\left(a \\right)} - b \\log{\\left(b \\right)} + \\left(a - 1\\right) \\log{\\left(1 - a \\right)} + \\left(b - 1\\right) \\log{\\left(1 - b \\right)} - 0.301316449957313\\right)^{2}$"
      ],
      "text/plain": [
       "(a + b - 0.0700000000000001)**2 + (-a*log(a) - b*log(b) + (a - 1)*log(1 - a) + (b - 1)*log(1 - b) - 0.301316449957313)**2"
      ]
     },
     "execution_count": 43,
     "metadata": {},
     "output_type": "execute_result"
    }
   ],
   "source": [
    "def objective(a,b):\n",
    "    p_vals = p_list(a, b, N)\n",
    "    sum_p = np.sum(p_vals)\n",
    "    sum_Sp = np.sum([S(p) for p in p_vals])\n",
    "    # Return the sum of squared differences (error terms)\n",
    "    return (sum_p - E_in)**2 + (sum_Sp - S_in)**2\n",
    "\n",
    "objective(a,b)"
   ]
  },
  {
   "cell_type": "code",
   "execution_count": 66,
   "id": "33afb297-1cba-420a-8661-abf672e294fc",
   "metadata": {},
   "outputs": [
    {
     "name": "stdout",
     "output_type": "stream",
     "text": [
      "Trying method: Nelder-Mead\n",
      "Trying method: Powell\n",
      "Trying method: BFGS\n",
      "Trying method: L-BFGS-B\n",
      "Trying method: TNC\n",
      "Trying method: COBYLA\n",
      "Trying method: SLSQP\n"
     ]
    },
    {
     "name": "stderr",
     "output_type": "stream",
     "text": [
      "/var/folders/58/gxcqk5bd4055b6n0b6yszvlw0000gn/T/ipykernel_23236/3616594845.py:15: RuntimeWarning: overflow encountered in scalar power\n",
      "  return float(((sum_p - E_in)**2 + (sum_Sp - S_in)**2).evalf().as_real_imag()[0])\n"
     ]
    },
    {
     "name": "stdout",
     "output_type": "stream",
     "text": [
      "Trying method: trust-constr\n",
      "\n",
      "Best Method:\n",
      "Method: Powell\n",
      "Objective Function Value: -inf\n",
      "Success: True\n",
      "Message: Optimization terminated successfully.\n"
     ]
    }
   ],
   "source": [
    "methods = ['Nelder-Mead', 'Powell', 'BFGS', 'L-BFGS-B', 'TNC', 'COBYLA', 'SLSQP', 'trust-constr']\n",
    "\n",
    "# Store results\n",
    "results = []\n",
    "\n",
    "# Initial guess for the optimization\n",
    "initial_guess = [0.0000002, 0.0000201]\n",
    "\n",
    "# Try each method and store the results\n",
    "for method in methods:\n",
    "    print(f\"Trying method: {method}\")\n",
    "    \n",
    "    # Run the optimization using the current method\n",
    "    result = minimize(objective, initial_guess, method=method)\n",
    "    \n",
    "    # Store the result\n",
    "    results.append((method, result.fun, result.success, result.message))\n",
    "\n",
    "# Find the best method based on the objective function value\n",
    "best_method = min(results, key=lambda x: x[1])\n",
    "\n",
    "# Print the best method and its results\n",
    "print(\"\\nBest Method:\")\n",
    "print(f\"Method: {best_method[0]}\")\n",
    "print(f\"Objective Function Value: {best_method[1]}\")\n",
    "print(f\"Success: {best_method[2]}\")\n",
    "print(f\"Message: {best_method[3]}\")"
   ]
  },
  {
   "cell_type": "code",
   "execution_count": 7,
   "id": "cfb298b3-9a21-44e2-9279-4a3fb03d18fe",
   "metadata": {},
   "outputs": [
    {
     "data": {
      "text/plain": [
       "[[[np.float64(0.9000000000000001),\n",
       "   np.float64(0.8999999999999999),\n",
       "   np.float64(0.9)],\n",
       "  [np.float64(1.1), np.float64(1.1), np.float64(1.1)],\n",
       "  [np.float64(1.3000000000000003),\n",
       "   np.float64(1.2999999999999998),\n",
       "   np.float64(1.3000000000000003)],\n",
       "  [np.float64(1.5000000000000002),\n",
       "   np.float64(1.5),\n",
       "   np.float64(1.5000000000000004)],\n",
       "  [np.float64(1.7000000000000004),\n",
       "   np.float64(1.7000000000000002),\n",
       "   np.float64(1.7000000000000006)]],\n",
       " [[np.float64(2.2984265286900225),\n",
       "   np.float64(2.298426531075596),\n",
       "   np.float64(2.2984265339664978)],\n",
       "  [np.float64(2.9485924790112015),\n",
       "   np.float64(2.9485924793814773),\n",
       "   np.float64(2.9485924807493946)],\n",
       "  [np.float64(3.5987584257940983),\n",
       "   np.float64(3.5987584261643732),\n",
       "   np.float64(3.5987584275322915)],\n",
       "  [np.float64(4.248924372576994),\n",
       "   np.float64(4.24892437294727),\n",
       "   np.float64(4.248924374315188)],\n",
       "  [np.float64(4.899090319359892),\n",
       "   np.float64(4.899090319730166),\n",
       "   np.float64(4.899090321098084)]]]"
      ]
     },
     "execution_count": 7,
     "metadata": {},
     "output_type": "execute_result"
    }
   ],
   "source": [
    "import numpy as np\n",
    "inhomov1_state_6=[0.28,0.08,0.08,0.28,0.15139453, 0.02860547]\n",
    "inhomov2_state_6=[0.12,0.09,0.15,0.3,0.22996678, 0.01003322]\n",
    "therm_state_6=[0.1,0.1,0.4,0.1,0.1,0.1]\n",
    "pure_6q = [0,0,0,0,0,1]\n",
    "data_6q=[therm_state_6,inhomov1_state_6,inhomov2_state_6]\n",
    "inhomov1_state_8=[0.02352335,0.08,0.28,0.12,0.12,0.28,0.08,0.11647665]\n",
    "inhomov2_state_8=[0.04340705,0.12,0.09,0.15,0.3,0.14,0.23,0.02659295]\n",
    "therm_state_8=[0.1,0.1,0.4,0.1,0.1,0.1,0.1,0.1]\n",
    "pure_8q = [0,0,0,0,0,0,0,1]\n",
    "data_8q=[therm_state_8,inhomov1_state_8,inhomov2_state_8]\n",
    "inhomov1_state_10=[0.11647665, 0.02352335,0.08,0.1,0.28,0.12,0.12,0.28,0.1,0.08]\n",
    "inhomov2_state_10=[0.1,0.1,0.04340705,0.12,0.09,0.15,0.3,0.14,0.23,0.02659295]\n",
    "therm_state_10=[0.1,0.1,0.1,0.1,0.4,0.1,0.1,0.1,0.1,0.1]\n",
    "pure_10q = [0,0,0,0,0,0,0,0,0,1]\n",
    "\n",
    "data_10q=[therm_state_10,inhomov1_state_10,inhomov2_state_10]\n",
    "\n",
    "inhomov1_state_12=[0.1,0.1,0.11647665, 0.02352335,0.08,0.1,0.28,0.12,0.12,0.28,0.1,0.08]\n",
    "inhomov2_state_12=[0.1,0.1,0.1,0.04340705,0.12,0.09,0.15,0.3,0.14,0.23,0.02659295,0.1]\n",
    "therm_state_12=[0.1,0.1,0.1,0.1,0.1,0.4,0.1,0.1,0.1,0.1,0.1,0.1]\n",
    "pure_12q = [0,0,0,0,0,0,0,0,0,0,0,1]\n",
    "\n",
    "data_12q=[therm_state_12,inhomov1_state_12,inhomov2_state_12]\n",
    "\n",
    "inhomov1_state_14=[0.1,0.1,0.1,0.11647665, 0.02352335,0.08,0.1,0.28,0.12,0.12,0.28,0.1,0.08,0.1]\n",
    "inhomov2_state_14=[0.1,0.1,0.1,0.1,0.1,0.04340705,0.12,0.09,0.15,0.3,0.14,0.23,0.02659295,0.1]\n",
    "therm_state_14=[0.1,0.1,0.1,0.1,0.1,0.1,0.1,0.4,0.1,0.1,0.1,0.1,0.1,0.1]\n",
    "data_14q=[therm_state_14,inhomov1_state_14,inhomov2_state_14]\n",
    "\n",
    "[[[np.sum(inhomov1_state_6),np.sum(inhomov2_state_6),np.sum(therm_state_6)],\n",
    " [np.sum(inhomov1_state_8),np.sum(inhomov2_state_8),np.sum(therm_state_8)],\n",
    " [np.sum(inhomov1_state_10),np.sum(inhomov2_state_10),np.sum(therm_state_10)],\n",
    " [np.sum(inhomov1_state_12),np.sum(inhomov2_state_12),np.sum(therm_state_12)],\n",
    "[np.sum(inhomov1_state_14),np.sum(inhomov2_state_14),np.sum(therm_state_14)]],\n",
    "[[S_list_of_pops(inhomov1_state_6),S_list_of_pops(inhomov2_state_6),S_list_of_pops(therm_state_6)],\n",
    " [S_list_of_pops(inhomov1_state_8),S_list_of_pops(inhomov2_state_8),S_list_of_pops(therm_state_8)],\n",
    " [S_list_of_pops(inhomov1_state_10),S_list_of_pops(inhomov2_state_10),S_list_of_pops(therm_state_10)]\n",
    " ,[S_list_of_pops(inhomov1_state_12),S_list_of_pops(inhomov2_state_12),S_list_of_pops(therm_state_12)],\n",
    "[S_list_of_pops(inhomov1_state_14),S_list_of_pops(inhomov2_state_14),S_list_of_pops(therm_state_14)]]]"
   ]
  },
  {
   "cell_type": "code",
   "execution_count": 8,
   "id": "ad384457-7eda-46b1-9d3c-0877edf27d70",
   "metadata": {},
   "outputs": [],
   "source": [
    "def rel_diff_from_thermal(therm_state, state, N):\n",
    "    # Compute the uniform reference probability\n",
    "    pop_ref = np.sum(therm_state) / N\n",
    "    \n",
    "    # Calculate KL divergence terms\n",
    "    kl_terms = []\n",
    "    for p in state:\n",
    "        # KL for binary distribution: p log(p/q) + (1-p)log((1-p)/(1-q))\n",
    "        term = 0\n",
    "        if 0 < p < 1 and 0 < pop_ref < 1:\n",
    "            term += p * np.log(p / pop_ref) \n",
    "            term += (1 - p) * np.log((1 - p) / (1 - pop_ref))\n",
    "        kl_terms.append(term)\n",
    "    \n",
    "    return np.sum(kl_terms)\n",
    "        "
   ]
  },
  {
   "cell_type": "code",
   "execution_count": 9,
   "id": "610d2abb-aa6b-4020-a68c-5edadfae9338",
   "metadata": {},
   "outputs": [
    {
     "data": {
      "text/plain": [
       "[np.float64(0.23782799286944778),\n",
       " np.float64(0.23782799814592334),\n",
       " np.float64(0.23782799576034902)]"
      ]
     },
     "execution_count": 9,
     "metadata": {},
     "output_type": "execute_result"
    }
   ],
   "source": [
    "diff_therm=rel_diff_from_thermal(therm_state_8,therm_state_8,8)\n",
    "diff_v1=rel_diff_from_thermal(therm_state_8,inhomov1_state_8,8)\n",
    "diff_v2=rel_diff_from_thermal(therm_state_8,inhomov2_state_8,8)\n",
    "[diff_therm,diff_v1,diff_v2]\n",
    "diff_therm=rel_diff_from_thermal(therm_state_10,therm_state_10,10)\n",
    "diff_v1=rel_diff_from_thermal(therm_state_10,inhomov1_state_10,10)\n",
    "diff_v2=rel_diff_from_thermal(therm_state_10,inhomov2_state_10,10)\n",
    "[diff_therm,diff_v1,diff_v2]\n",
    "diff_therm=rel_diff_from_thermal(therm_state_12,therm_state_12,12)\n",
    "diff_v1=rel_diff_from_thermal(therm_state_12,inhomov1_state_12,12)\n",
    "diff_v2=rel_diff_from_thermal(therm_state_12,inhomov2_state_12,12)\n",
    "[diff_therm,diff_v1,diff_v2]\n",
    "diff_therm=rel_diff_from_thermal(therm_state_14,therm_state_14,14)\n",
    "diff_v1=rel_diff_from_thermal(therm_state_14,inhomov1_state_14,14)\n",
    "diff_v2=rel_diff_from_thermal(therm_state_14,inhomov2_state_14,14)\n",
    "[diff_therm,diff_v1,diff_v2]\n",
    "diff_therm=rel_diff_from_thermal(therm_state_6,therm_state_6,6)\n",
    "diff_v1=rel_diff_from_thermal(therm_state_6,inhomov1_state_6,6)\n",
    "diff_v2=rel_diff_from_thermal(therm_state_6,inhomov2_state_6,6)\n",
    "[diff_therm,diff_v1,diff_v2]\n"
   ]
  },
  {
   "cell_type": "code",
   "execution_count": null,
   "id": "22dc6344-7165-489d-9e52-bf1e81387774",
   "metadata": {},
   "outputs": [],
   "source": []
  },
  {
   "cell_type": "code",
   "execution_count": null,
   "id": "49390edc-3cfb-4005-938c-7be2ea8c7f39",
   "metadata": {},
   "outputs": [],
   "source": []
  },
  {
   "cell_type": "code",
   "execution_count": 48,
   "id": "2be169cc-528e-48ce-b445-73c3fd2729ef",
   "metadata": {},
   "outputs": [],
   "source": [
    "import matplotlib.pyplot as plt\n",
    "import matplotlib.pyplot as plt\n",
    "import numpy as np\n",
    "\n",
    "def plot_with_trace_and_kl(data_6q,data_8q, data_10q, data_12q,data_14q, save_filename=None):\n",
    "    \"\"\"\n",
    "    Plot both KL divergence and trace distance from thermal state\n",
    "    \"\"\"\n",
    "    # Set up figure with two subplots\n",
    "    fig, (ax1, ax2) = plt.subplots(2, 1, figsize=(5, 8))\n",
    "    \n",
    "    # X-axis positions for the three groups\n",
    "    x_pos = [8, 10, 12,14]\n",
    "    \n",
    "    # Define colors and markers for different initialization types\n",
    "    colors = ['gray', 'gray', 'gray']\n",
    "    markers = ['o', 'D', '^']\n",
    "    labels = ['CS1', 'CS2', 'CS3']\n",
    "\n",
    "    def ref_state(N):\n",
    "        ref_p = (0.1*(N-1) + 0.4)/N\n",
    "        return [ref_p]*N\n",
    "    \n",
    "    # Unpack data\n",
    "    therm_state_6, inhomov1_state_6, inhomov2_state_6 = data_6q\n",
    "    therm_state_8, inhomov1_state_8, inhomov2_state_8 = data_8q\n",
    "    therm_state_10, inhomov1_state_10, inhomov2_state_10 = data_10q\n",
    "    therm_state_12, inhomov1_state_12, inhomov2_state_12 = data_12q\n",
    "    therm_state_14, inhomov1_state_14, inhomov2_state_14 = data_14q\n",
    "    \n",
    "    # Define KL divergence function correctly (outside the current function)\n",
    "    def rel_diff_from_thermal(therm_state, state, N):\n",
    "        # Compute the uniform reference probability\n",
    "        pop_ref = np.sum(therm_state) / N\n",
    "        \n",
    "        # Calculate KL divergence terms\n",
    "        kl_terms = []\n",
    "        for p in state:\n",
    "            # KL for binary distribution: p log(p/q) + (1-p)log((1-p)/(1-q))\n",
    "            term = 0\n",
    "            if 0 < p < 1 and 0 < pop_ref < 1:\n",
    "                term += p * np.log(p / pop_ref) \n",
    "                term += (1 - p) * np.log((1 - p) / (1 - pop_ref))\n",
    "                term=term\n",
    "            kl_terms.append(term)\n",
    "        \n",
    "        return np.sum(kl_terms)\n",
    "    \n",
    "    # Calculate trace distance values\n",
    "    def trace_distance(state1, state2):\n",
    "        # For classical distributions, this is half the L1 distance\n",
    "        return 0.5 * np.sum(np.abs(np.array(state1) - np.array(state2)))\n",
    "    \n",
    "    # Calculate KL divergence values\n",
    "\n",
    "    diff_therm_6 = rel_diff_from_thermal(therm_state_6, therm_state_6, 6)\n",
    "    diff_v1_6 = rel_diff_from_thermal(therm_state_6, inhomov1_state_6, 6)\n",
    "    diff_v2_6 = rel_diff_from_thermal(therm_state_6, inhomov2_state_6, 6)\n",
    "    \n",
    "    # 8 qubits\n",
    "    diff_therm_8 = rel_diff_from_thermal(therm_state_8, therm_state_8, 8)\n",
    "    diff_v1_8 = rel_diff_from_thermal(therm_state_8, inhomov1_state_8, 8)\n",
    "    diff_v2_8 = rel_diff_from_thermal(therm_state_8, inhomov2_state_8, 8)\n",
    "    \n",
    "    # 10 qubits\n",
    "    diff_therm_10 = rel_diff_from_thermal(therm_state_10, therm_state_10, 10)\n",
    "    diff_v1_10 = rel_diff_from_thermal(therm_state_10, inhomov1_state_10, 10)\n",
    "    diff_v2_10 = rel_diff_from_thermal(therm_state_10, inhomov2_state_10, 10)\n",
    "    \n",
    "    # 12 qubits\n",
    "    diff_therm_12 = rel_diff_from_thermal(therm_state_12, therm_state_12, 12)\n",
    "    diff_v1_12 = rel_diff_from_thermal(therm_state_12, inhomov1_state_12, 12)\n",
    "    diff_v2_12 = rel_diff_from_thermal(therm_state_12, inhomov2_state_12, 12)\n",
    "\n",
    "    # 14 qubits\n",
    "    diff_therm_14 = rel_diff_from_thermal(therm_state_14, therm_state_14, 14)\n",
    "    diff_v1_14 = rel_diff_from_thermal(therm_state_14, inhomov1_state_14, 14)\n",
    "    diff_v2_14 = rel_diff_from_thermal(therm_state_14, inhomov2_state_14, 14)\n",
    "    \n",
    "    # Calculate trace distances for each system size\n",
    "\n",
    "    # 6 qubits\n",
    "    td_therm_6 = trace_distance(ref_state(6), therm_state_6)\n",
    "    td_v1_6 = trace_distance(ref_state(6), inhomov1_state_6)\n",
    "    td_v2_6 = trace_distance(ref_state(6), inhomov2_state_6)\n",
    "    \n",
    "    # 8 qubits\n",
    "    td_therm_8 = trace_distance(ref_state(8), therm_state_8)\n",
    "    td_v1_8 = trace_distance(ref_state(8), inhomov1_state_8)\n",
    "    td_v2_8 = trace_distance(ref_state(8), inhomov2_state_8)\n",
    "    \n",
    "    # 10 qubits\n",
    "    td_therm_10 = trace_distance(ref_state(10), therm_state_10)\n",
    "    td_v1_10 = trace_distance(ref_state(10), inhomov1_state_10)\n",
    "    td_v2_10 = trace_distance(ref_state(10), inhomov2_state_10)\n",
    "    \n",
    "    # 12 qubits\n",
    "    td_therm_12 = trace_distance(ref_state(12), therm_state_12)\n",
    "    td_v1_12 = trace_distance(ref_state(12), inhomov1_state_12)\n",
    "    td_v2_12 = trace_distance(ref_state(12), inhomov2_state_12)\n",
    "\n",
    "    # 14 qubits\n",
    "    td_therm_14 = trace_distance(ref_state(14), therm_state_14)\n",
    "    td_v1_14 = trace_distance(ref_state(14), inhomov1_state_14)\n",
    "    td_v2_14 = trace_distance(ref_state(14), inhomov2_state_14)\n",
    "    \n",
    "    # KL values list\n",
    "    #kl_normalized = [\n",
    "    #    diff_therm_6,diff_therm_8, diff_therm_10, diff_therm_12,diff_therm_14,\n",
    "    #    diff_v1_6,diff_v1_8, diff_v1_10, diff_v1_12,diff_v1_14,\n",
    "    #    diff_v2_6,diff_v2_8, diff_v2_10, diff_v2_12,diff_v2_14,\n",
    "    #]\n",
    "    #Normalize KL\n",
    "    kl_normalized = [\n",
    "        diff_therm_6-diff_therm_6,diff_therm_8-diff_therm_8, diff_therm_10-diff_therm_10, diff_therm_12-diff_therm_12,diff_therm_14-diff_therm_14,\n",
    "        diff_v1_6-diff_therm_6,diff_v1_8-diff_therm_8, diff_v1_10-diff_therm_10, diff_v1_12-diff_therm_12,diff_v1_14-diff_therm_14,\n",
    "        diff_v2_6-diff_therm_6,diff_v2_8-diff_therm_8, diff_v2_10-diff_therm_10, diff_v2_12-diff_therm_12,diff_v2_14-diff_therm_14,\n",
    "    ]\n",
    "    print(kl_normalized)\n",
    "    EPSILON = 1e-20\n",
    "    \n",
    "    # Check if values are close to zero\n",
    "    min_nonzero_value = min([v for v in kl_normalized if v > 0]) if any(v > 0 for v in kl_normalized) else EPSILON\n",
    "    \n",
    "    transformed_therm_6,transformed_therm_8, transformed_therm_10, transformed_therm_12,transformed_therm_14 = kl_normalized[0:5]\n",
    "    transformed_v1_6,transformed_v1_8, transformed_v1_10, transformed_v1_12,transformed_v1_14 = kl_normalized[5:10]\n",
    "    transformed_v2_6,transformed_v2_8, transformed_v2_10, transformed_v2_12,transformed_v2_14 = kl_normalized[10:15]\n",
    "    transform_label = \"Normalized KL Divergence\"\n",
    "    transform_title = \"Normalized KL Divergence from Thermal State\"\n",
    "    \n",
    "    # Plot original KL divergence on first subplot (as was done originally)\n",
    "    ax1.plot(x_pos, [transformed_therm_8, transformed_therm_10, transformed_therm_12,transformed_therm_14], \n",
    "             color=colors[0], marker=markers[0], linestyle='-', linewidth=2, \n",
    "             markersize=10, label=labels[0])\n",
    "    ax1.plot(x_pos, [transformed_v1_8, transformed_v1_10, transformed_v1_12,transformed_v1_14], \n",
    "             color=colors[1], marker=markers[1], linestyle='-', linewidth=2, \n",
    "             markersize=10, label=labels[1])\n",
    "    ax1.plot(x_pos, [transformed_v2_8, transformed_v2_10, transformed_v2_12,transformed_v2_14], \n",
    "             color=colors[2], marker=markers[2], linestyle='-', linewidth=2, \n",
    "             markersize=10, label=labels[2])\n",
    "    #ax1.set_ylim(0.2,0.3)\n",
    "    \n",
    "    # Plot trace distance on second subplot (unchanged)\n",
    "    ax2.plot(x_pos, [td_therm_8, td_therm_10, td_therm_12,td_therm_14], \n",
    "             color=colors[0], marker=markers[0], linestyle='-', linewidth=2, \n",
    "             markersize=10, label=labels[0])\n",
    "    ax2.plot(x_pos, [td_v1_8, td_v1_10, td_v1_12,td_v1_14], \n",
    "             color=colors[1], marker=markers[1], linestyle='-', linewidth=2, \n",
    "             markersize=10, label=labels[1])\n",
    "    ax2.plot(x_pos, [td_v2_8, td_v2_10, td_v2_12,td_v2_14], \n",
    "             color=colors[2], marker=markers[2], linestyle='-', linewidth=2, \n",
    "             markersize=10, label=labels[2])\n",
    "    \n",
    "    # Configure both original subplots\n",
    "    for ax, title, ylabel in zip([ax1, ax2], \n",
    "                                ['Difference in the relative entropy from the from thermal state', 'Trace Distance from Thermal State'],\n",
    "                                [r'$\\mathcal{D}(\\{ \\rho_{q}(0)\\},\\bar{\\rho})-\\mathcal{D}({\\rho_{th}},\\bar{\\rho})$', r'$\\frac{1}{2}\\sum_{q=1} ^N |p_q - \\bar{p}| $']):\n",
    "        ax.grid(axis='y', linestyle='--', alpha=0.7)\n",
    "        ax.set_xlabel('N', fontsize=20)\n",
    "        ax.set_ylabel(ylabel, fontsize=18)\n",
    "        #ax.set_title(title, fontsize=16)\n",
    "        ax.set_xticks(x_pos)\n",
    "        ax.legend(fontsize=12)\n",
    "        plt.savefig(\"Initial_state_comparison.png\", dpi=300, bbox_inches='tight')\n",
    "    \n",
    "\n",
    "    plt.show()"
   ]
  },
  {
   "cell_type": "code",
   "execution_count": 49,
   "id": "9402a165-ada5-41ce-a342-6dd5cb65af7f",
   "metadata": {},
   "outputs": [
    {
     "name": "stdout",
     "output_type": "stream",
     "text": [
      "[np.float64(0.0), np.float64(0.0), np.float64(0.0), np.float64(0.0), np.float64(0.0), np.float64(5.276475562032701e-09), np.float64(1.7381924233283996e-09), np.float64(1.7381926453730046e-09), np.float64(1.7381919237280385e-09), np.float64(1.7381924788395509e-09), np.float64(2.8909012406153067e-09), np.float64(1.3679165578039942e-09), np.float64(1.367916502292843e-09), np.float64(1.3679163357593893e-09), np.float64(1.367917001893204e-09)]\n"
     ]
    },
    {
     "data": {
      "image/png": "[encoded data removed]",
      "text/plain": [
       "<Figure size 500x800 with 2 Axes>"
      ]
     },
     "metadata": {},
     "output_type": "display_data"
    }
   ],
   "source": [
    "plot_with_trace_and_kl(data_6q, data_8q, data_10q, data_12q,data_14q,save_filename=\"Relative_entropy_diff_initial_states\")"
   ]
  },
  {
   "cell_type": "code",
   "execution_count": null,
   "id": "20c1bb92-33f1-4a30-a3f6-e37e2632294a",
   "metadata": {},
   "outputs": [],
   "source": []
  },
  {
   "cell_type": "code",
   "execution_count": null,
   "id": "dfb490dc-33db-4f7a-9acf-704f5da0b4bc",
   "metadata": {},
   "outputs": [],
   "source": [
    "# Automatically set y-axis limits\n",
    "        if ax == ax1:\n",
    "            values = kl_normalized\n",
    "        else:\n",
    "            values = [td_therm_6,td_therm_8, td_therm_10, td_therm_12,td_therm_14,\n",
    "                      td_v1_6,td_v1_8, td_v1_10, td_v1_12,td_v1_14,\n",
    "                      td_v2_6,td_v2_8, td_v2_10, td_v2_12,td_v2_14]\n",
    "        \n",
    "        # Ensure we have values before setting limits\n",
    "        if values:\n",
    "            y_min = min(values)-0.5*min(values) \n",
    "            y_max = max(values)+ 0.25*max(values) # Add 10% padding\n",
    "            ax.set_ylim(y_min, y_max)\n",
    "    \n",
    "    # Plot enhanced KL visualization on the separate figure\n",
    "    ax_enhanced.plot(x_pos, [transformed_therm_6,transformed_therm_8, transformed_therm_10, transformed_therm_12,transformed_therm_14], \n",
    "             color=colors[0], marker=markers[0], linestyle='-', linewidth=2, \n",
    "             markersize=10, label=labels[0])\n",
    "    ax_enhanced.plot(x_pos, [transformed_v1_6,transformed_v1_8, transformed_v1_10, transformed_v1_12,transformed_v1_14], \n",
    "             color=colors[1], marker=markers[1], linestyle='-', linewidth=2, \n",
    "             markersize=10, label=labels[1])\n",
    "    ax_enhanced.plot(x_pos, [transformed_v2_6,transformed_v2_8, transformed_v2_10, transformed_v2_12,transformed_v2_14], \n",
    "             color=colors[2], marker=markers[2], linestyle='-', linewidth=2, \n",
    "             markersize=10, label=labels[2])\n",
    "    \n",
    "    # Configure enhanced KL plot\n",
    "    ax_enhanced.grid(axis='y', linestyle='--', alpha=0.7)\n",
    "    ax_enhanced.set_xlabel('Number of Qubits', fontsize=14)\n",
    "    ax_enhanced.set_ylabel(transform_label, fontsize=14)\n",
    "    ax_enhanced.set_title(transform_title, fontsize=16)\n",
    "    ax_enhanced.set_xticks(x_pos)\n",
    "    ax_enhanced.legend(fontsize=12)\n",
    "    #plt.savefig(\"Initial_state_comparison.png\", dpi=300, bbox_inches='tight')\n",
    "    plt.tight_layout()"
   ]
  },
  {
   "cell_type": "code",
   "execution_count": 53,
   "id": "170d42f0-6da6-4652-81de-e1956f329dee",
   "metadata": {},
   "outputs": [
    {
     "ename": "NameError",
     "evalue": "name 'diff_therm_6' is not defined",
     "output_type": "error",
     "traceback": [
      "\u001b[0;31m---------------------------------------------------------------------------\u001b[0m",
      "\u001b[0;31mNameError\u001b[0m                                 Traceback (most recent call last)",
      "Cell \u001b[0;32mIn[53], line 2\u001b[0m\n\u001b[1;32m      1\u001b[0m kl_normalized \u001b[38;5;241m=\u001b[39m [\n\u001b[0;32m----> 2\u001b[0m         diff_therm_6,diff_therm_8, diff_therm_10, diff_therm_12,diff_therm_14,\n\u001b[1;32m      3\u001b[0m         diff_v1_6,diff_v1_8, diff_v1_10, diff_v1_12,diff_v1_14,\n\u001b[1;32m      4\u001b[0m         diff_v2_6,diff_v2_8, diff_v2_10, diff_v2_12,diff_v2_14,\n\u001b[1;32m      5\u001b[0m     ]\n",
      "\u001b[0;31mNameError\u001b[0m: name 'diff_therm_6' is not defined"
     ]
    }
   ],
   "source": [
    "kl_normalized = [\n",
    "        diff_therm_6,diff_therm_8, diff_therm_10, diff_therm_12,diff_therm_14,\n",
    "        diff_v1_6,diff_v1_8, diff_v1_10, diff_v1_12,diff_v1_14,\n",
    "        diff_v2_6,diff_v2_8, diff_v2_10, diff_v2_12,diff_v2_14,\n",
    "    ]"
   ]
  },
  {
   "cell_type": "code",
   "execution_count": null,
   "id": "66a05f75-72db-4e24-ad82-3facc31d0462",
   "metadata": {},
   "outputs": [],
   "source": []
  }
 ],
 "metadata": {
  "kernelspec": {
   "display_name": "Python 3 (ipykernel)",
   "language": "python",
   "name": "python3"
  },
  "language_info": {
   "codemirror_mode": {
    "name": "ipython",
    "version": 3
   },
   "file_extension": ".py",
   "mimetype": "text/x-python",
   "name": "python",
   "nbconvert_exporter": "python",
   "pygments_lexer": "ipython3",
   "version": "3.12.9"
  }
 },
 "nbformat": 4,
 "nbformat_minor": 5
}
